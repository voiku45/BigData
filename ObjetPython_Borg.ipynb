{
 "cells": [
  {
   "cell_type": "markdown",
   "metadata": {},
   "source": [
    "# Introduction\n",
    "\n",
    "Comme vu dans le cours POO & MSI, il y a beaucoup de manières de programmer. Des styles. Des formes que l’on donne au code. On leur donne des noms: programmation procédurale, fonctionnelle, orientée flux, par contrat, etc... C’est ce qu’on appelle des paradigmes, des points de vue sur comment on doit faire le boulot.\n",
    "\n",
    "En vérité, le point de vue n’est pas déterminant. Vous pouvez faire le même boulot en utilisant n’importe lequel. L’important c’est de coder.\n",
    "\n",
    "Mais chaque point de vue possède des caractéristiques et des outils différents.\n",
    "\n",
    "Ce que vous allez voir est ce qu’on appelle la programmation orientée objet, ou POO. C’est un simple point de vue, un outil, mais il est très utilisé en Python, Ruby ou Java.\n",
    "\n",
    "Quand vous avez appris la programmation, on vous a montré comment stocker des données dans des structures de données:\n",
    "\n",
    "- les listes\n",
    "- les chaînes\n",
    "- les entiers\n",
    "- les dictionnaires\n",
    "- et les autres \n",
    "\n",
    "Et on vous a montré comment créer un comportement pour votre programme en utilisant des mots clés, puis plus tard en utilisant des fonctions pour regrouper ces mots clés.\n",
    "\n",
    "En Python, à ce stade, nous allons supposer que vous connaissez les bases du langage ainsi que celles des structures de données. Si ce n'est pas le cas je vous renvoie vers le cours *Introduction au python* à la racine. \n",
    "\n",
    "\n"
   ]
  },
  {
   "cell_type": "markdown",
   "metadata": {},
   "source": [
    "## Rappels sur la POO\n",
    "\n",
    "La programmation orienté objet, c’est un style de programmation qui permet de regrouper au même endroit le comportement (les fonctions) et les données (les structures) qui sont faites pour aller ensemble.\n",
    "\n",
    "C’est tout. C’est finalement une simple question d’organisation du programme.\n",
    "\n",
    "### Les objets \n",
    "\n",
    "Un objet c'est un… truc. Un machin. Un bidule.\n",
    "\n",
    "Ça peut vous paraître une définition floue, mais c’est parce que c’est exactement ce que peut être un objet: n’importe quoi que vous décidiez de coder. L’objet est un moyen de dire à la machine : “ce *< entrez_ici_un_nom_de_truc > *possède telle donnée, et fait telle chose avec”.\n",
    "\n",
    "Vous le savez, en python absolument tout est un objet ! Une chaîne, un entier, un dictionnaire, une liste, une fonction… Vous avez donc manipulé des objets sans le savoir. Maintenant vous allez créer les vôtres.\n",
    "\n",
    "Créer des objets se fait en deux étapes: décrire à quoi ressemble votre objet, et demander à l’ordinateur d’utiliser cette description pour le fabriquer.\n",
    "\n",
    "Voici un petit exemple simple. "
   ]
  },
  {
   "cell_type": "code",
   "execution_count": 1,
   "metadata": {},
   "outputs": [],
   "source": [
    "class DescriptionDeLObject : \n",
    "    pass"
   ]
  },
  {
   "cell_type": "code",
   "execution_count": 3,
   "metadata": {},
   "outputs": [
    {
     "name": "stdout",
     "output_type": "stream",
     "text": [
      "<__main__.DescriptionDeLObject object at 0x104b71828>\n"
     ]
    }
   ],
   "source": [
    "#on déclare cet objet afin de l'utiliser\n",
    "MonObjet = DescriptionDeLObject() \n",
    "#on l'affiche \n",
    "print(MonObjet)"
   ]
  },
  {
   "cell_type": "markdown",
   "metadata": {},
   "source": [
    "C'est ce qu’on appelle une classe. **La classe est le moyen, en Python, de décrire à quoi va ressembler un objet.**\n",
    "\n",
    "\n",
    "```DescriptionDeLObject()``` \n",
    "**(notez les parenthèses)**, est la syntaxe Python pour dire “fabrique un objet à partir de ce plan”. Le nouvel objet va être retourné, et mis dans la variable *MonObjet* . "
   ]
  },
  {
   "cell_type": "markdown",
   "metadata": {},
   "source": [
    "### Les méthodes \n",
    "\n",
    "Les méthodes sont des fonctions déclarées à l’intérieur de la classe. Méthode est juste un nom pour dire “cette fonction est dans une classe”. On va maintenant créer une méthode très simple. "
   ]
  },
  {
   "cell_type": "code",
   "execution_count": 8,
   "metadata": {},
   "outputs": [],
   "source": [
    "class DescriptionDeLObject :\n",
    "    #une méthode est une fonction qu'on définie tel que : \n",
    "    def la_methode(objet_en_cours):\n",
    "        print(\"Ceci est une méthode sur un objet : 'tada' \")"
   ]
  },
  {
   "cell_type": "code",
   "execution_count": 9,
   "metadata": {},
   "outputs": [
    {
     "name": "stdout",
     "output_type": "stream",
     "text": [
      "Ceci est une méthode sur un objet : 'tada' \n"
     ]
    }
   ],
   "source": [
    "#on redéfinit la variable MonObjet \n",
    "MonObjet = DescriptionDeLObject() \n",
    "#on peut maintenant appeler la méthode de notre objet \n",
    "MonObjet.la_methode()"
   ]
  },
  {
   "cell_type": "markdown",
   "metadata": {},
   "source": [
    "Vous devez vous demander *“quel est ce objet_en_cours”* qui est défini comme paramètre de la méthode ?\n",
    "\n",
    "C’est une spécificité de Python : quand vous appelez une méthode depuis un objet, l’objet est automatiquement passé en premier paramètre par Python. C’est automatique, et invisible.\n",
    "\n",
    "C’est très facile à comprendre en faisant une méthode qui retourne ```objet_en_cours``` pour voir ce qu’il y a dedans :"
   ]
  },
  {
   "cell_type": "code",
   "execution_count": 10,
   "metadata": {},
   "outputs": [],
   "source": [
    "class DescriptionDeLObjectBis : \n",
    "    def une_methode(objet_en_cours):\n",
    "        return objet_en_cours"
   ]
  },
  {
   "cell_type": "code",
   "execution_count": 11,
   "metadata": {},
   "outputs": [
    {
     "data": {
      "text/plain": [
       "<__main__.DescriptionDeLObjectBis at 0x104c6bac8>"
      ]
     },
     "execution_count": 11,
     "metadata": {},
     "output_type": "execute_result"
    }
   ],
   "source": [
    "ObjetBis = DescriptionDeLObjectBis() \n",
    "ObjetBis.une_methode() "
   ]
  },
  {
   "cell_type": "markdown",
   "metadata": {},
   "source": [
    "### Les conventions \n",
    "\n",
    "En Python, peu de choses sont forcées. La plupart des choses sont des conventions. Mais ce sont des conventions fortes, les gens y tiennent.\n",
    "\n",
    "Parmi ces conventions, il y a les conventions de nommage, à savoir:\n",
    "- on nomme les classes sans espace, avec des majuscules : NomDUneClasse\n",
    "- on nomme le reste en minuscule avec des underscores : nom_de_methode, nom_d_attribut, etc\n",
    "\n",
    "La convention la plus surprenante est celle du premier paramètre des méthodes qui contient *l’objet en cours*. Son nom n’est pas forcé, contrairement aux autres langages (comme this en Java par exemple), en fait c’est un paramètre tout à faire ordinaire. Néanmoins, la (très très forte) convention est de l’appeler ```self``` "
   ]
  },
  {
   "cell_type": "code",
   "execution_count": 14,
   "metadata": {},
   "outputs": [
    {
     "name": "stdout",
     "output_type": "stream",
     "text": [
      "un truc\n"
     ]
    }
   ],
   "source": [
    "class UneClasse : \n",
    "    def methode(self): \n",
    "        print('un truc')\n",
    "        \n",
    "ex = UneClasse()\n",
    "ex.methode() "
   ]
  },
  {
   "cell_type": "markdown",
   "metadata": {},
   "source": [
    "Enfin, les concepteurs de Python ont ajouté une convention supplémentaire : les méthodes appelées automatiquement dites méthodes spéciales sont appelées ```__nom_de_methode__``` (avec deux underscores de chaque côté)."
   ]
  },
  {
   "cell_type": "markdown",
   "metadata": {},
   "source": [
    "### L'initialisation des objets \n",
    "\n",
    "On souhaite généralement donner un état de départ à tout nouvel objet créé. Par exemple, si vous travaillez sur un jeu vidéo de course de voitures, vous voudrez peut-être créer un objet voiture avec du carburant et une couleur de peinture.\n",
    "\n",
    "Il serait contre productif de devoir les spécifier à chaque fois. Pour automatiser le travail, Python met à disposition des méthodes appelées automatiquement quand une condition est remplie. Ce sont **les fameuses méthodes spéciales nommées __methode__**.\n",
    "\n",
    "Dans notre cas, on veut que notre objet ait un état de départ, donc on va utiliser la méthode qui est appelée automatiquement après la création de l’objet. C’est la méthode ```__init__```."
   ]
  },
  {
   "cell_type": "code",
   "execution_count": 18,
   "metadata": {},
   "outputs": [
    {
     "name": "stdout",
     "output_type": "stream",
     "text": [
      "L'objet à bien été crée !\n",
      "La méthode est appelé automatiquement à la déclaration de l'objet\n"
     ]
    }
   ],
   "source": [
    "class UneAutreClass : \n",
    "    def __init__(self) :\n",
    "        print(\"L'objet à bien été crée !\")\n",
    "        print(\"La méthode est appelé automatiquement à la déclaration de l'objet\")\n",
    "\n",
    "x = UneAutreClass()"
   ]
  },
  {
   "cell_type": "markdown",
   "metadata": {},
   "source": [
    "## Exercices\n",
    "\n",
    "\n",
    "### Le compte bancaire\n",
    "\n",
    "Écrire un programme python qui permet de définir une classe CompteBancaire(), qui permette d’instancier des objets tels que compte1, compte2, etc. Le constructeur de cette classe initialisera deux attributs d’instance nom et solde, avec les valeurs par défaut ’Dupont’ et 1000.\n",
    "\n",
    "Trois autres méthodes seront définies :\n",
    "\n",
    "- depot(somme) permettra d’ajouter une certaine somme au solde ;\n",
    "- retrait(somme) permettra de retirer une certaine somme du solde ;\n",
    "- affiche() permettra d’afficher le nom du titulaire et le solde de son compte.\n",
    "\n",
    "\n",
    "Exemples d’exécution:\n",
    "```\n",
    ">>> compte1 = CompteBancaire(‘Duchmol’, 800)\n",
    ">>> compte1.depot(350)\n",
    ">>> compte1.retrait(200)\n",
    ">>> compte1.affiche()\n",
    "Le solde du compte bancaire de Duchmol est de 950 euros.\n",
    ">>> compte2 = CompteBancaire()\n",
    ">>> compte2.depot(25)\n",
    ">>> compte2.affiche()\n",
    "Le solde du compte bancaire de Dupont est de 1025 euros.\n",
    "\n",
    "```\n",
    "\n",
    "\n",
    "### La surcharge d'opérateur \n",
    "\n",
    "Définir une classe Point avec un constructeur, un point est définit soit par deux coordonnées x et y, s’il s’agit d’une représentation d’un point au plan ou par trois coordonnées x, y et z, s’il s’agit d’une représentation d’un point en espace.\n",
    "\n",
    "La classe Point doit contenir une méthode ToString qui affiche le point.\n",
    "\n",
    "Exemple d’exécution:\n",
    "```\n",
    ">>>P1=Point(2,3)\n",
    ">>>P1.ToString()\n",
    "P(2.00 , 3.00)\n",
    ">>>P2=Point(1,-5,6)\n",
    ">>>P2.ToString()\n",
    "P(1.00 , -5.00 , 6.00)\n",
    "```\n",
    "\n",
    "\n",
    "### L'héritage simple\n",
    "\n",
    "Définir les classes suivantes:\n",
    "\n",
    "- Une classe DateNaissance avec trois attributs, jour, mois, année et une méthode ToString qui convertit la date de naissance en chaine de caractères\n",
    "- Une classe Personne  avec trois attributs, nom, prénom et date de naissance et une méthode polymorphe Afficher pour afficher les données de chaque personne.\n",
    "- Une classe Employé qui dérive de la classe Personne, avec en plus un attribut Salaire et la redéfinition de la méthode Afficher.\n",
    "- Une classe Chef qui dérive de la classe Employé, avec en plus un attribut Service et la redéfinition de la méthode Afficher.\n",
    "\n",
    "Exemple d’exécution:\n",
    "\n",
    "```\n",
    ">>>P=personne(“Ilyass”,”Math”,DateNaissance(1,7,1982))\n",
    ">>>P.afficher()\n",
    "Nom: Ilyass \n",
    "Prénom: Math\n",
    "Date de naissance: 01 / 07 / 1982\n",
    "\n",
    ">>>E=employe(“Ilyass”,”Math”,DateNaissance(1,7,1985),7865.548)\n",
    ">>>E.afficher()\n",
    "Nom: Ilyass \n",
    "Prénom: Math\n",
    "Date de naissance: 01 / 07 / 1985\n",
    "Salaire: 7865.55\n",
    "\n",
    ">>>Ch=chef(“Ilyass”,”Math”,DateNaissance(1,7,1988),7865.548,”Ressource humaine”)\n",
    ">>>Ch.afficher()\n",
    "Nom: Ilyass \n",
    "Prénom: Math\n",
    "Date de naissance: 01 / 07 / 1988\n",
    "Salaire: 7865.55\n",
    "Service: Ressource humaine\n",
    "```\n"
   ]
  },
  {
   "cell_type": "code",
   "execution_count": 37,
   "metadata": {},
   "outputs": [
    {
     "name": "stdout",
     "output_type": "stream",
     "text": [
      "Le solde du compte bancaire de  Dupond  est de  1250\n"
     ]
    }
   ],
   "source": [
    "#Compte bancaire\n",
    "class CompteBancaire :\n",
    "    \n",
    "    def __init__(self):\n",
    "        self.nom = \"Dupond\"\n",
    "        self.solde = 1000\n",
    "        \n",
    "    def depot(self,somme):\n",
    "        self.solde += somme\n",
    "        \n",
    "    def retrait(self,somme):\n",
    "        self.solde -= somme\n",
    "        \n",
    "    def affiche(self):\n",
    "        print(\"Le solde du compte bancaire de \", self.nom , \" est de \", self.solde)\n",
    "\n",
    "compte1 = CompteBancaire()\n",
    "compte1.depot(350)\n",
    "compte1.retrait(100)\n",
    "compte1.affiche()"
   ]
  },
  {
   "cell_type": "code",
   "execution_count": 51,
   "metadata": {},
   "outputs": [
    {
     "name": "stdout",
     "output_type": "stream",
     "text": [
      "P(2.00 , 3.00)\n",
      "P(2.00 , 3.00, 4.00)\n",
      "P(78.00 , 6.00)\n"
     ]
    }
   ],
   "source": [
    "#Point\n",
    "class Point :\n",
    "    def __init__(self,x,y,z=None):\n",
    "        self.x = x\n",
    "        self.y = y\n",
    "        self.z = z    \n",
    "    \n",
    "    def ToString(self):\n",
    "        if self.z is None:\n",
    "           print(\"P(%.2f , %.2f)\"%(self.x,self.y))\n",
    "        else:\n",
    "           print(\"P(%.2f , %.2f, %.2f)\"%(self.x,self.y,self.z))\n",
    "\n",
    "P1 = Point(2,3)\n",
    "P1.ToString()\n",
    "P2 = Point(2,3,4)\n",
    "P2.ToString()\n",
    "P3 = Point(78,6)\n",
    "P3.ToString()"
   ]
  },
  {
   "cell_type": "code",
   "execution_count": 80,
   "metadata": {},
   "outputs": [
    {
     "name": "stdout",
     "output_type": "stream",
     "text": [
      "Nom :  Ilyass\n",
      "Prenom :  Math\n",
      "Date de naissance : 01 / 07 / 1982 \n",
      "Nom :  Ilyass\n",
      "Prenom :  Math\n",
      "Date de naissance : 01 / 07 / 1985 \n",
      "Salaire : 7865.55\n",
      "Nom :  Ilyass\n",
      "Prenom :  Math\n",
      "Date de naissance : 01 / 07 / 1988 \n",
      "Salaire : 7865.55\n",
      "Service : Ressource humaine\n"
     ]
    }
   ],
   "source": [
    "#Heritage simple\n",
    "#Une classe DateNaissance avec trois attributs, jour, mois, année et une méthode ToString qui convertit la date de naissance en chaine de caractères\n",
    "#Une classe Personne avec trois attributs, nom, prénom et date de naissance et une méthode polymorphe Afficher pour afficher les données de chaque personne.\n",
    "#Une classe Employé qui dérive de la classe Personne, avec en plus un attribut Salaire et la redéfinition de la méthode Afficher.\n",
    "#Une classe Chef qui dérive de la classe Employé, avec en plus un attribut Service et la redéfinition de la méthode Afficher.\n",
    "class DateNaissance :\n",
    "    def __init__(self, jour, mois,annee):\n",
    "        self.jour = jour\n",
    "        self.mois = mois\n",
    "        self.annee = annee\n",
    "        \n",
    "    def ToString(self):\n",
    "        return(\"%02d / %02d / %d\" %(self.jour,self.mois, self.annee))\n",
    "\n",
    "class Personne :\n",
    "    def __init__(self, nom, prenom, date_de_naissance):\n",
    "        self.nom = nom\n",
    "        self.prenom = prenom\n",
    "        self.date_de_naissance = date_de_naissance\n",
    "    \n",
    "    def afficher(self):\n",
    "        print(\"Nom : \", self.nom)\n",
    "        print(\"Prenom : \", self.prenom)\n",
    "        print(\"Date de naissance : %s \" % (self.date_de_naissance.ToString()))\n",
    "\n",
    "class Employe(Personne) :\n",
    "    def __init__(self, nom, prenom,date_de_naissance, salaire):\n",
    "        Personne.__init__(self, nom, prenom, date_de_naissance)\n",
    "        self.salaire = salaire\n",
    "    \n",
    "    def afficher(self):\n",
    "        Personne.afficher(self)\n",
    "        print(\"Salaire : %.02f\"%self.salaire)\n",
    "\n",
    "class Chef(Employe):\n",
    "    def __init__(self, nom, prenom, date_de_naissance, salaire, service):\n",
    "        Employe.__init__(self, nom, prenom, date_de_naissance,salaire)\n",
    "        self.service = service\n",
    "        \n",
    "    def afficher(self):\n",
    "        Employe.afficher(self)\n",
    "        print(\"Service : %s\"%self.service)\n",
    "        \n",
    "        \n",
    "P=Personne(\"Ilyass\",\"Math\",DateNaissance(1,7,1982))\n",
    "P.afficher()\n",
    "E=Employe(\"Ilyass\",\"Math\",DateNaissance(1,7,1985),7865.548)\n",
    "E.afficher()\n",
    "Ch=Chef(\"Ilyass\",\"Math\",DateNaissance(1,7,1988),7865.548,\"Ressource humaine\")\n",
    "Ch.afficher()"
   ]
  },
  {
   "cell_type": "markdown",
   "metadata": {},
   "source": [
    "## Exercice sur le polymorphisme\n",
    "\n",
    "### Consignes \n",
    "\n",
    "Une boîtes aux lettres recueille des courrier qui peuvent être des lettres ou des colis.\n",
    "\n",
    "Une lettre est caractérisée par :\n",
    "\n",
    "son poids (en grammes)\n",
    "le mode d’expédition (express ou normal)\n",
    "son adresse de destination\n",
    "son adresse d’expédition\n",
    "son format (“A3” ou “A4”)\n",
    "\n",
    "Un colis est caractérisé par :\n",
    "\n",
    "son poids (en grammes)\n",
    "le mode d’expédition (express ou normal)\n",
    "son adresse de destination\n",
    "son adresse d’expédition\n",
    "son volume (en litres )\n",
    "Il faut donc définir aussi les deux méthodes:\n",
    "\n",
    "calculTimbre: qui calcule le prix du Timbre\n",
    "ToString qui affiche un courrier\n",
    "Règles pour calculer le prix du Timbre :\n",
    "\n",
    "en mode d’expédition normal :\n",
    "\n",
    "Le montant nécessaire pour affranchir une lettre dépend de son format et de son poids : Formule : montant = tarif de base + 1.0 * poids (kilos), où le tarif de base pour une lettre “A4” est de 2.50, et 3.50 pour une lettre “A3”\n",
    "\n",
    "Le montant nécessaire pour affranchir un colis dépend de son poids et de son volume : Formule : montant = 0.25 volume (litres) + poids (kilos) 1.0\n",
    "\n",
    "en mode d’expédition express : les montants précédents sont doublés, quelque soit le type de courrier\n",
    "\n",
    "### Exemple d’exécution :\n",
    "```\n",
    ">>>L1=Lettre(“Lille”,”Paris”,80,”normal”,”A4″)\n",
    ">>>L1.ToString()\n",
    "Lettre:\n",
    "Adresse destination: Lille \n",
    "Adress expedition: Paris\n",
    "Poids: 80.00 grammes\n",
    "Mode: normal \n",
    "Format:A4\n",
    "Prix du timbre:0.20\n",
    ">>>C1=Colis(“Marrakeche”,”Barcelone “,3500,”expresse”,2.25)\n",
    ">>>C1.ToString()\n",
    "Collis:\n",
    "Adresse destination: Marrakeche \n",
    "Adress expedition: Barcelone \n",
    "Poids: 3500.00 grammes\n",
    "Mode: expresse \n",
    "Volume: 2.25 litres\n",
    "Prix du timbre:3937.50\n",
    "```"
   ]
  },
  {
   "cell_type": "code",
   "execution_count": 3,
   "metadata": {},
   "outputs": [
    {
     "name": "stdout",
     "output_type": "stream",
     "text": [
      "Lettre :\n",
      "Poids : 80.00 grammes\n",
      "Mode d'envoi : normal\n",
      "Adresse de destination : Lille\n",
      "Adresse d'expedition : Paris\n",
      "Format: A4\n",
      "Prix du timbre:0.20\n",
      "Collis: \n",
      "Poids : 3500.00 grammes\n",
      "Mode d'envoi : expresse\n",
      "Adresse de destination : Marrakeche\n",
      "Adresse d'expedition : Barcelone\n",
      "Volume : 2.25 litres\n",
      "Prix du timbre:3.94\n"
     ]
    }
   ],
   "source": [
    "#Exercice Polymorphisme\n",
    "#Créer 3 classe : Courrier(main), Lettre(format), Colis(volume)\n",
    "\n",
    "class Courrier:\n",
    "    def __init__(self, poids, mode, adresse_destination, adresse_expedition):\n",
    "        self.poids = poids\n",
    "        self.mode = mode\n",
    "        self.adresse_destination = adresse_destination\n",
    "        self.adresse_expedition = adresse_expedition\n",
    "        \n",
    "    def ToString(self):\n",
    "        print(\"Poids : %.2f grammes\" %(self.poids))\n",
    "        print(\"Mode d'envoi : %s\" %(self.mode))\n",
    "        print(\"Adresse de destination : %s\" %(self.adresse_destination))\n",
    "        print(\"Adresse d'expedition : %s\" %(self.adresse_expedition))\n",
    "\n",
    "class Lettre(Courrier):\n",
    "    def __init__(self, poids, mode, adresse_destination, adresse_expedition, format):\n",
    "        Courrier.__init__(self, poids, mode, adresse_destination, adresse_expedition)\n",
    "        self.format = format\n",
    "    \n",
    "    def CalculTimbre(self):\n",
    "        if self.format == \"A4\":\n",
    "            tarif_base=2.5\n",
    "        if self.format == \"A3\":\n",
    "            tarif_base = 3.5\n",
    "        \n",
    "        montant = tarif_base*(self.poids/1000)\n",
    "        \n",
    "        if self.mode == \"expresse\":\n",
    "            montant*=2\n",
    "        \n",
    "        return montant\n",
    "    \n",
    "    def ToString(self):\n",
    "        print(\"Lettre :\")\n",
    "        Courrier.ToString(self)\n",
    "        print(\"Format: %s\"%(self.format))\n",
    "        print(\"Prix du timbre:%.2f\"%(self.CalculTimbre()))\n",
    "\n",
    "class Colis(Courrier):\n",
    "    def __init__(self, poids, mode, adresse_destination, adresse_expedition, volume):\n",
    "        Courrier.__init__(self, poids, mode, adresse_destination, adresse_expedition)\n",
    "        self.volume = volume\n",
    "    def CalculTimbre(self):\n",
    "        montant=0.0\n",
    "        montant=0.25*self.volume*self.poids/1000\n",
    "        \n",
    "        if self.mode==\"expresse\":\n",
    "            montant*=2\n",
    "            \n",
    "        return montant\n",
    "    \n",
    "    def ToString(self):\n",
    "        print(\"Collis: \")\n",
    "        Courrier.ToString(self)\n",
    "        print(\"Volume : %.2f litres\"%(self.volume))\n",
    "        print(\"Prix du timbre:%.2f\"%(self.CalculTimbre()))\n",
    "        \n",
    "L1=Lettre(80,\"normal\",\"Lille\",\"Paris\",\"A4\")\n",
    "L1.ToString()\n",
    "C1=Colis(3500,\"expresse\",\"Marrakeche\",\"Barcelone\",2.25)\n",
    "C1.ToString()"
   ]
  },
  {
   "cell_type": "code",
   "execution_count": null,
   "metadata": {},
   "outputs": [],
   "source": []
  }
 ],
 "metadata": {
  "kernelspec": {
   "display_name": "Python 3",
   "language": "python",
   "name": "python3"
  },
  "language_info": {
   "codemirror_mode": {
    "name": "ipython",
    "version": 3
   },
   "file_extension": ".py",
   "mimetype": "text/x-python",
   "name": "python",
   "nbconvert_exporter": "python",
   "pygments_lexer": "ipython3",
   "version": "3.7.3"
  }
 },
 "nbformat": 4,
 "nbformat_minor": 2
}
